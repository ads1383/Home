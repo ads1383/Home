{
 "cells": [
  {
   "cell_type": "code",
   "execution_count": 24,
   "metadata": {},
   "outputs": [],
   "source": [
    "import keras\n",
    "from keras.datasets import boston_housing\n",
    "from keras.layers import Dense, Dropout\n",
    "from keras.optimizers import RMSprop\n",
    "import numpy as np"
   ]
  },
  {
   "cell_type": "code",
   "execution_count": 21,
   "metadata": {},
   "outputs": [],
   "source": [
    "batch_size = 32\n",
    "epochs = 5"
   ]
  },
  {
   "cell_type": "code",
   "execution_count": 13,
   "metadata": {},
   "outputs": [],
   "source": [
    "(x_train, y_train), (x_test, y_test) = boston_housing.load_data()"
   ]
  },
  {
   "cell_type": "code",
   "execution_count": 25,
   "metadata": {},
   "outputs": [],
   "source": [
    "order = np.argsort(np.random.random(y_train.shape))\n",
    "x_train = x_train[order]\n",
    "y_train = y_train[order]"
   ]
  },
  {
   "cell_type": "code",
   "execution_count": 26,
   "metadata": {
    "scrolled": true
   },
   "outputs": [],
   "source": [
    "mean = x_train.mean(axis=0)\n",
    "std = x_train.std(axis=0)\n",
    "x_train = (x_train - mean) / std\n",
    "x_test = (x_test - mean) / std\n"
   ]
  },
  {
   "cell_type": "code",
   "execution_count": 38,
   "metadata": {},
   "outputs": [
    {
     "name": "stdout",
     "output_type": "stream",
     "text": [
      "_________________________________________________________________\n",
      "Layer (type)                 Output Shape              Param #   \n",
      "=================================================================\n",
      "input_3 (InputLayer)         (None, 13)                0         \n",
      "_________________________________________________________________\n",
      "dense_7 (Dense)              (None, 50)                700       \n",
      "_________________________________________________________________\n",
      "dropout_5 (Dropout)          (None, 50)                0         \n",
      "_________________________________________________________________\n",
      "dense_8 (Dense)              (None, 50)                2550      \n",
      "_________________________________________________________________\n",
      "dropout_6 (Dropout)          (None, 50)                0         \n",
      "_________________________________________________________________\n",
      "dense_9 (Dense)              (None, 1)                 51        \n",
      "=================================================================\n",
      "Total params: 3,301\n",
      "Trainable params: 3,301\n",
      "Non-trainable params: 0\n",
      "_________________________________________________________________\n"
     ]
    }
   ],
   "source": [
    "inp = keras.Input(shape=(13,))\n",
    "x = Dense(50,activation='relu')(inp)\n",
    "x = Dropout(0.2)(x)\n",
    "x = Dense(50,activation='relu')(x)\n",
    "x = Dropout(0.2)(x)\n",
    "out = Dense(1)(x)\n",
    "model = keras.Model(inp, out)\n",
    "model.summary()"
   ]
  },
  {
   "cell_type": "code",
   "execution_count": 48,
   "metadata": {},
   "outputs": [
    {
     "name": "stdout",
     "output_type": "stream",
     "text": [
      "Processing fold # 0\n",
      "40/40 [==============================] - 0s 10ms/step\n",
      "Processing fold # 1\n",
      "40/40 [==============================] - 0s 127us/step\n",
      "Processing fold # 2\n",
      "40/40 [==============================] - 0s 548us/step\n",
      "Processing fold # 3\n",
      "40/40 [==============================] - 0s 398us/step\n",
      "Processing fold # 4\n",
      "40/40 [==============================] - 0s 530us/step\n",
      "Processing fold # 5\n",
      "40/40 [==============================] - 0s 223us/step\n",
      "Processing fold # 6\n",
      "40/40 [==============================] - 0s 139us/step\n",
      "Processing fold # 7\n",
      "40/40 [==============================] - 0s 553us/step\n",
      "Processing fold # 8\n",
      "40/40 [==============================] - 0s 512us/step\n",
      "Processing fold # 9\n",
      "40/40 [==============================] - 0s 378us/step\n"
     ]
    }
   ],
   "source": [
    "model.compile(optimizer='rmsprop',loss='mse',metrics=['mae'])\n",
    "k = 10\n",
    "num_val_samples = len(x_train) // k\n",
    "all_scores = []\n",
    "\n",
    "for i in range(k):\n",
    "    print(f'Processing fold # {i}')\n",
    "    val_data = x_train[i * num_val_samples: (i+1) * num_val_samples]\n",
    "    val_targets = y_train[i * num_val_samples: (i+1) * num_val_samples]\n",
    "    \n",
    "    partial_train_data = np.concatenate(\n",
    "                            [x_train[:i * num_val_samples],\n",
    "                            x_train[(i+1) * num_val_samples:]],\n",
    "                            axis=0)\n",
    "    partial_train_targets = np.concatenate(\n",
    "                            [y_train[:i * num_val_samples],\n",
    "                            y_train[(i+1)*num_val_samples:]],\n",
    "                            axis=0)\n",
    "\n",
    "    model.fit(partial_train_data,\n",
    "              partial_train_targets,\n",
    "              epochs=epochs,\n",
    "              batch_size=16,\n",
    "              verbose=0)\n",
    "    val_mse, val_mae = model.evaluate(val_data, val_targets, verbose=1)\n",
    "    all_scores.append(val_mae)"
   ]
  },
  {
   "cell_type": "code",
   "execution_count": 49,
   "metadata": {},
   "outputs": [
    {
     "name": "stdout",
     "output_type": "stream",
     "text": [
      "all_scores : [2.2697131872177123, 1.416119933128357, 1.8150000810623168, 1.6945310354232788, 1.4242849349975586, 1.903044295310974, 1.6378009080886842, 1.9217531204223632, 2.3140096187591555, 2.1862066268920897]\n",
      "mean all scores : 1.858246374130249\n"
     ]
    }
   ],
   "source": [
    "print(f'all_scores : {all_scores}')\n",
    "print(f'mean all scores : {np.mean(all_scores)}')"
   ]
  },
  {
   "cell_type": "code",
   "execution_count": null,
   "metadata": {},
   "outputs": [],
   "source": []
  }
 ],
 "metadata": {
  "kernelspec": {
   "display_name": "Python 3",
   "language": "python",
   "name": "python3"
  },
  "language_info": {
   "codemirror_mode": {
    "name": "ipython",
    "version": 3
   },
   "file_extension": ".py",
   "mimetype": "text/x-python",
   "name": "python",
   "nbconvert_exporter": "python",
   "pygments_lexer": "ipython3",
   "version": "3.7.3"
  }
 },
 "nbformat": 4,
 "nbformat_minor": 2
}
